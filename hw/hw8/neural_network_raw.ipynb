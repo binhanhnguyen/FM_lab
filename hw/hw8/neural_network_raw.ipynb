{
  "nbformat": 4,
  "nbformat_minor": 0,
  "metadata": {
    "kernelspec": {
      "display_name": "Python 3",
      "language": "python",
      "name": "python3"
    },
    "language_info": {
      "codemirror_mode": {
        "name": "ipython",
        "version": 3
      },
      "file_extension": ".py",
      "mimetype": "text/x-python",
      "name": "python",
      "nbconvert_exporter": "python",
      "pygments_lexer": "ipython3",
      "version": "3.7.10"
    },
    "colab": {
      "provenance": []
    }
  },
  "cells": [
    {
      "cell_type": "markdown",
      "metadata": {
        "id": "N66YjVSIGOWB"
      },
      "source": [
        "# Neural Network\n",
        "\n",
        "Xây dựng neural network với hai tầng ẩn (hidden layer).\n",
        "Các trọng số và mối liên hệ giữa các tầng ẩn được thiết lập\n",
        "và cài đặt bằng tay."
      ]
    },
    {
      "cell_type": "markdown",
      "metadata": {
        "id": "MJJUMXZm0Z09"
      },
      "source": [
        "## Neural Network Overview\n",
        "\n",
        "<img src=\"http://cs231n.github.io/assets/nn1/neural_net2.jpeg\" alt=\"nn\" style=\"width: 400px;\"/>\n",
        "\n",
        "## MNIST Dataset Overview\n",
        "\n",
        "MNIST là bộ dữ liệu chứa các ảnh là các ký tự viết tay, chia thành 2 phần, 60000 ảnh dùng để huấn luyện và 10000 ảnh dùng để kiểm thử. Kích thước các ảnh là 28x28, giá trị các pixel thuộc [0,255]\n",
        "\n",
        "\n",
        "![MNIST Dataset](http://neuralnetworksanddeeplearning.com/images/mnist_100_digits.png)\n",
        "\n",
        "More info: http://yann.lecun.com/exdb/mnist/"
      ]
    },
    {
      "cell_type": "code",
      "metadata": {
        "id": "oAaeWJSHFWNY"
      },
      "source": [
        "import numpy as np\n",
        "import pandas as pd\n",
        "from matplotlib import pyplot as plt"
      ],
      "execution_count": 1,
      "outputs": []
    },
    {
      "cell_type": "code",
      "metadata": {
        "id": "vK9mCRnyZ7N_"
      },
      "source": [
        "# MNIST dataset parameters.\n",
        "num_classes = 10 # total classes (0-9 digits).\n",
        "num_features = 784 # data features (img shape: 28*28).\n",
        "\n",
        "# Network parameters.\n",
        "n_hidden_1 = 128 # 1st layer number of neurons.\n",
        "n_hidden_2 = 256 # 2nd layer number of neurons."
      ],
      "execution_count": 10,
      "outputs": []
    },
    {
      "cell_type": "code",
      "metadata": {
        "id": "MA2BiAiIFWNZ",
        "colab": {
          "base_uri": "https://localhost:8080/"
        },
        "outputId": "5a421d94-53dc-45c2-dd91-9f9af0176275"
      },
      "source": [
        "# Chuẩn bị dữ liệu\n",
        "from tensorflow.keras.datasets import mnist\n",
        "(x_train, y_train), (x_test, y_test) = mnist.load_data()\n",
        "# Chuyển đổi sang định dạng float32.\n",
        "x_train, x_test = np.array(x_train, np.float32), np.array(x_test, np.float32)\n",
        "x_train, x_test = x_train.reshape([-1, num_features]).T, x_test.reshape([-1, num_features]).T\n",
        "# Chuẩn hóa ảnh từ from [0, 255] to [0, 1].\n",
        "x_train, x_test = x_train / 255., x_test / 255."
      ],
      "execution_count": 3,
      "outputs": [
        {
          "output_type": "stream",
          "name": "stdout",
          "text": [
            "Downloading data from https://storage.googleapis.com/tensorflow/tf-keras-datasets/mnist.npz\n",
            "\u001b[1m11490434/11490434\u001b[0m \u001b[32m━━━━━━━━━━━━━━━━━━━━\u001b[0m\u001b[37m\u001b[0m \u001b[1m0s\u001b[0m 0us/step\n"
          ]
        }
      ]
    },
    {
      "cell_type": "code",
      "metadata": {
        "id": "jcaFeUNOWUzl"
      },
      "source": [
        "m = x_train.shape[0]"
      ],
      "execution_count": 4,
      "outputs": []
    },
    {
      "cell_type": "code",
      "metadata": {
        "id": "Nyz6gRsPbHdB"
      },
      "source": [
        "def cross_entropy(predictions, targets, epsilon=1e-12):\n",
        "    \"\"\"\n",
        "    Computes cross entropy between targets (encoded as one-hot vectors)\n",
        "    and predictions.\n",
        "    Input: predictions (N, k) ndarray\n",
        "           targets (N, k) ndarray\n",
        "    Returns: scalar\n",
        "    \"\"\"\n",
        "    predictions = np.clip(predictions, epsilon, 1. - epsilon)\n",
        "    N = predictions.shape[0]\n",
        "    ce = -np.sum(targets*np.log(predictions+1e-9))/N\n",
        "    return ce"
      ],
      "execution_count": 5,
      "outputs": []
    },
    {
      "cell_type": "code",
      "metadata": {
        "id": "O9cCERHQVJIx"
      },
      "source": [
        "def init_params():\n",
        "    W1 = np.random.rand(n_hidden_1, 784) - 0.5\n",
        "    b1 = np.random.rand(n_hidden_1, 1) - 0.5\n",
        "    W2 = np.random.rand(num_classes, n_hidden_1) - 0.5\n",
        "    b2 = np.random.rand(num_classes, 1) - 0.5\n",
        "    return W1, b1, W2, b2\n",
        "\n",
        "def ReLU(Z):\n",
        "    return np.maximum(Z, 0)\n",
        "\n",
        "def softmax(Z):\n",
        "    A = np.exp(Z) / sum(np.exp(Z))\n",
        "    return A\n",
        "\n",
        "def cross_entropy(predictions, targets, epsilon=1e-12):\n",
        "    \"\"\"\n",
        "    tính giá trị cross entropy giữa targets và predictions.\n",
        "    Input: predictions (N, k)\n",
        "           targets (N, k)\n",
        "    Returns: scalar\n",
        "    \"\"\"\n",
        "    predictions = np.clip(predictions, epsilon, 1. - epsilon)\n",
        "    N = predictions.shape[0]\n",
        "    ce = -np.sum(targets*np.log(predictions+1e-9))/N\n",
        "    return ce\n",
        "\n",
        "def forward_prop(W1, b1, W2, b2, X):\n",
        "    Z1 = W1.dot(X) + b1\n",
        "    A1 = ReLU(Z1)\n",
        "    Z2 = W2.dot(A1) + b2\n",
        "    A2 = softmax(Z2)\n",
        "    return Z1, A1, Z2, A2\n",
        "\n",
        "def ReLU_deriv(Z):\n",
        "    return Z > 0\n",
        "\n",
        "def one_hot(Y):\n",
        "    one_hot_Y = np.zeros((Y.size, Y.max() + 1))\n",
        "    one_hot_Y[np.arange(Y.size), Y] = 1\n",
        "    one_hot_Y = one_hot_Y.T\n",
        "    return one_hot_Y\n",
        "\n",
        "def backward_prop(Z1, A1, Z2, A2, W1, W2, X, Y):\n",
        "    one_hot_Y = one_hot(Y)\n",
        "    dZ2 = A2 - one_hot_Y\n",
        "    dW2 = 1 / m * dZ2.dot(A1.T)\n",
        "    db2 = 1 / m * np.sum(dZ2)\n",
        "    dZ1 = W2.T.dot(dZ2) * ReLU_deriv(Z1)\n",
        "    dW1 = 1 / m * dZ1.dot(X.T)\n",
        "    db1 = 1 / m * np.sum(dZ1)\n",
        "    return dW1, db1, dW2, db2\n",
        "\n",
        "def update_params(W1, b1, W2, b2, dW1, db1, dW2, db2, alpha):\n",
        "    W1 = W1 - alpha * dW1\n",
        "    b1 = b1 - alpha * db1\n",
        "    W2 = W2 - alpha * dW2\n",
        "    b2 = b2 - alpha * db2\n",
        "    return W1, b1, W2, b2"
      ],
      "execution_count": 6,
      "outputs": []
    },
    {
      "cell_type": "code",
      "metadata": {
        "id": "SPbEwUz2VJLg"
      },
      "source": [
        "losses = []\n",
        "def get_predictions(A2):\n",
        "    return np.argmax(A2, 0)\n",
        "\n",
        "def get_accuracy(predictions, Y):\n",
        "    # print(predictions, Y)\n",
        "    return np.sum(predictions == Y) / Y.size\n",
        "\n",
        "def gradient_descent(X, Y, alpha, iterations):\n",
        "    W1, b1, W2, b2 = init_params()\n",
        "    for i in range(iterations):\n",
        "        Z1, A1, Z2, A2 = forward_prop(W1, b1, W2, b2, X)\n",
        "        dW1, db1, dW2, db2 = backward_prop(Z1, A1, Z2, A2, W1, W2, X, Y)\n",
        "        W1, b1, W2, b2 = update_params(W1, b1, W2, b2, dW1, db1, dW2, db2, alpha)\n",
        "        predictions = get_predictions(A2)\n",
        "        losses.append(cross_entropy(predictions, Y))\n",
        "        if i % 10 == 9:\n",
        "            # print(\"Iteration: \", i+1)\n",
        "            # predictions = get_predictions(A2)\n",
        "            # print('Accuracy: %.3f' %(get_accuracy(predictions, Y)))\n",
        "            print('Iteration: %d, accuracy: %.3f' %(i + 1, get_accuracy(predictions, Y)))\n",
        "    return W1, b1, W2, b2"
      ],
      "execution_count": 7,
      "outputs": []
    },
    {
      "cell_type": "code",
      "metadata": {
        "id": "3No--X8yVJOV",
        "colab": {
          "base_uri": "https://localhost:8080/"
        },
        "outputId": "f6503d16-c4ca-4726-ea8c-1d3749b757b8"
      },
      "source": [
        "alpha = 0.01\n",
        "n_epoch = 100\n",
        "W1, b1, W2, b2 = gradient_descent(x_train, y_train, alpha, n_epoch)"
      ],
      "execution_count": 8,
      "outputs": [
        {
          "output_type": "stream",
          "name": "stdout",
          "text": [
            "Iteration: 10, accuracy: 0.383\n",
            "Iteration: 20, accuracy: 0.624\n",
            "Iteration: 30, accuracy: 0.752\n",
            "Iteration: 40, accuracy: 0.792\n",
            "Iteration: 50, accuracy: 0.821\n",
            "Iteration: 60, accuracy: 0.781\n",
            "Iteration: 70, accuracy: 0.858\n",
            "Iteration: 80, accuracy: 0.868\n",
            "Iteration: 90, accuracy: 0.828\n",
            "Iteration: 100, accuracy: 0.878\n"
          ]
        }
      ]
    },
    {
      "cell_type": "code",
      "metadata": {
        "colab": {
          "base_uri": "https://localhost:8080/",
          "height": 430
        },
        "id": "zTtYkwxsVJQ0",
        "outputId": "86593d36-b9fe-49a4-bad1-a603564a9c2b"
      },
      "source": [
        "# Biểu đồ biểu diễn độ biến thiên của hàm mất mát qua các vòng lặp\n",
        "plt.plot([i for i in range(len(losses))], losses, label='Loss line')\n",
        "# plt.plot(X, np.array(W * X + b), label='Fitted line')\n",
        "plt.legend()\n",
        "plt.show()"
      ],
      "execution_count": 9,
      "outputs": [
        {
          "output_type": "display_data",
          "data": {
            "text/plain": [
              "<Figure size 640x480 with 1 Axes>"
            ],
            "image/png": "[encoded data removed]"
          },
          "metadata": {}
        }
      ]
    },
    {
      "cell_type": "markdown",
      "source": [
        "## **2 hidden layers**"
      ],
      "metadata": {
        "id": "R2aHRg3hwOwJ"
      }
    },
    {
      "cell_type": "code",
      "metadata": {
        "id": "DSOHZBXHVJTN"
      },
      "source": [
        "def init_params_2():\n",
        "    # Tầng 1: Input (784) -> Hidden 1 (n_hidden_1)\n",
        "    W1 = np.random.rand(n_hidden_1, 784) - 0.5\n",
        "    b1 = np.random.rand(n_hidden_1, 1) - 0.5\n",
        "\n",
        "    # Tầng 2: Hidden 1 (n_hidden_1) -> Hidden 2 (n_hidden_2)\n",
        "    W2 = np.random.rand(n_hidden_2, n_hidden_1) - 0.5\n",
        "    b2 = np.random.rand(n_hidden_2, 1) - 0.5\n",
        "\n",
        "    # Tầng 3 (Output): Hidden 2 (n_hidden_2) -> Output (num_classes)\n",
        "    W3 = np.random.rand(num_classes, n_hidden_2) - 0.5\n",
        "    b3 = np.random.rand(num_classes, 1) - 0.5\n",
        "\n",
        "    return W1, b1, W2, b2, W3, b3\n",
        "\n",
        "def forward_prop_2(W1, b1, W2, b2, W3, b3, X):\n",
        "    # Tầng 1\n",
        "    Z1 = W1.dot(X) + b1\n",
        "    A1 = ReLU(Z1)\n",
        "\n",
        "    # Tầng 2\n",
        "    Z2 = W2.dot(A1) + b2\n",
        "    A2 = ReLU(Z2)\n",
        "\n",
        "    # Tầng 3 (Output)\n",
        "    Z3 = W3.dot(A2) + b3\n",
        "    A3 = softmax(Z3)\n",
        "\n",
        "    return Z1, A1, Z2, A2, Z3, A3\n",
        "\n",
        "def backward_prop_2(Z1, A1, Z2, A2, Z3, A3, W2, W3, X, Y):\n",
        "    m = Y.size # Số lượng mẫu\n",
        "    one_hot_Y = one_hot(Y)\n",
        "\n",
        "    # Tầng 3 (Output)\n",
        "    dZ3 = A3 - one_hot_Y\n",
        "    dW3 = 1 / m * dZ3.dot(A2.T)\n",
        "    db3 = 1 / m * np.sum(dZ3)\n",
        "\n",
        "    # Tầng 2\n",
        "    dZ2 = W3.T.dot(dZ3) * ReLU_deriv(Z2)\n",
        "    dW2 = 1 / m * dZ2.dot(A1.T)\n",
        "    db2 = 1 / m * np.sum(dZ2)\n",
        "\n",
        "    # Tầng 1\n",
        "    dZ1 = W2.T.dot(dZ2) * ReLU_deriv(Z1)\n",
        "    dW1 = 1 / m * dZ1.dot(X.T)\n",
        "    db1 = 1 / m * np.sum(dZ1)\n",
        "\n",
        "    return dW1, db1, dW2, db2, dW3, db3\n",
        "\n",
        "def update_params_2(W1, b1, W2, b2, W3, b3, dW1, db1, dW2, db2, dW3, db3, alpha):\n",
        "    W1 = W1 - alpha * dW1\n",
        "    b1 = b1 - alpha * db1\n",
        "    W2 = W2 - alpha * dW2\n",
        "    b2 = b2 - alpha * db2\n",
        "    W3 = W3 - alpha * dW3\n",
        "    b3 = b3 - alpha * db3\n",
        "    return W1, b1, W2, b2, W3, b3"
      ],
      "execution_count": 13,
      "outputs": []
    },
    {
      "cell_type": "code",
      "metadata": {
        "id": "Z6nVysFgVJVv"
      },
      "source": [
        "losses_2 = []\n",
        "\n",
        "def gradient_descent_2(X, Y, alpha, iterations):\n",
        "    W1, b1, W2, b2, W3, b3 = init_params_2()\n",
        "\n",
        "    for i in range(iterations):\n",
        "        Z1, A1, Z2, A2, Z3, A3 = forward_prop_2(W1, b1, W2, b2, W3, b3, X)\n",
        "        dW1, db1, dW2, db2, dW3, db3 = backward_prop_2(Z1, A1, Z2, A2, Z3, A3, W2, W3, X, Y)\n",
        "        W1, b1, W2, b2, W3, b3 = update_params_2(W1, b1, W2, b2, W3, b3, dW1, db1, dW2, db2, dW3, db3, alpha)\n",
        "\n",
        "        if i % 10 == 9:\n",
        "            predictions = get_predictions(A3)\n",
        "            accuracy = get_accuracy(predictions, Y)\n",
        "            losses_2.append(cross_entropy(predictions, Y))\n",
        "            print('Iteration: %d, accuracy: %.3f' % (i + 1, accuracy))\n",
        "    return W1, b1, W2, b2, W3, b3"
      ],
      "execution_count": 17,
      "outputs": []
    },
    {
      "cell_type": "code",
      "metadata": {
        "id": "N2FkE1tfVJX-",
        "colab": {
          "base_uri": "https://localhost:8080/"
        },
        "outputId": "48bb506e-68ba-4e88-d0f6-b9b7f1d06c12"
      },
      "source": [
        "alpha = 0.1\n",
        "n_epoch = 200\n",
        "W1, b1, W2, b2, W3, b3 = gradient_descent_2(x_train, y_train, alpha, n_epoch)"
      ],
      "execution_count": 18,
      "outputs": [
        {
          "output_type": "stream",
          "name": "stdout",
          "text": [
            "Iteration: 10, accuracy: 0.228\n",
            "Iteration: 20, accuracy: 0.276\n",
            "Iteration: 30, accuracy: 0.348\n",
            "Iteration: 40, accuracy: 0.414\n",
            "Iteration: 50, accuracy: 0.466\n",
            "Iteration: 60, accuracy: 0.507\n",
            "Iteration: 70, accuracy: 0.541\n",
            "Iteration: 80, accuracy: 0.569\n",
            "Iteration: 90, accuracy: 0.593\n",
            "Iteration: 100, accuracy: 0.611\n",
            "Iteration: 110, accuracy: 0.627\n",
            "Iteration: 120, accuracy: 0.641\n",
            "Iteration: 130, accuracy: 0.654\n",
            "Iteration: 140, accuracy: 0.664\n",
            "Iteration: 150, accuracy: 0.673\n",
            "Iteration: 160, accuracy: 0.682\n",
            "Iteration: 170, accuracy: 0.689\n",
            "Iteration: 180, accuracy: 0.696\n",
            "Iteration: 190, accuracy: 0.702\n",
            "Iteration: 200, accuracy: 0.708\n"
          ]
        }
      ]
    },
    {
      "cell_type": "code",
      "metadata": {
        "id": "ZBzIdIqOVJcQ",
        "colab": {
          "base_uri": "https://localhost:8080/",
          "height": 430
        },
        "outputId": "16b47492-59a6-4e04-e1ec-6a51ff55be86"
      },
      "source": [
        "# Biểu đồ biểu diễn độ biến thiên của hàm mất mát qua các vòng lặp\n",
        "plt.plot([i for i in range(len(losses_2))], losses_2, label='Loss line')\n",
        "# plt.plot(X, np.array(W * X + b), label='Fitted line')\n",
        "plt.legend()\n",
        "plt.show()"
      ],
      "execution_count": 19,
      "outputs": [
        {
          "output_type": "display_data",
          "data": {
            "text/plain": [
              "<Figure size 640x480 with 1 Axes>"
            ],
            "image/png": "[encoded data removed]"
          },
          "metadata": {}
        }
      ]
    },
    {
      "cell_type": "code",
      "metadata": {
        "id": "vPFkJRlfVJe1"
      },
      "source": [],
      "execution_count": null,
      "outputs": []
    }
  ]
}