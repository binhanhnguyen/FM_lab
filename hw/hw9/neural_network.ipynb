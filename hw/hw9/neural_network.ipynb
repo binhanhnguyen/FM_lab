{
  "nbformat": 4,
  "nbformat_minor": 0,
  "metadata": {
    "kernelspec": {
      "display_name": "Python [conda env:root] *",
      "language": "python",
      "name": "conda-root-py"
    },
    "language_info": {
      "codemirror_mode": {
        "name": "ipython",
        "version": 3
      },
      "file_extension": ".py",
      "mimetype": "text/x-python",
      "name": "python",
      "nbconvert_exporter": "python",
      "pygments_lexer": "ipython3",
      "version": "3.7.10"
    },
    "colab": {
      "provenance": []
    }
  },
  "cells": [
    {
      "cell_type": "markdown",
      "metadata": {
        "id": "3x9uySjxDhZ0"
      },
      "source": [
        "# Neural Network Example\n",
        "\n",
        "Xây dựng neural network với hai tầng ẩn (hidden layer). Các trọng số và mối liên hệ giữa các tầng ẩn được thiết lập và cài đặt bằng việc sử dụng API của thư viện PyTorch"
      ]
    },
    {
      "cell_type": "markdown",
      "metadata": {
        "id": "t_U1OnHRDhZ4"
      },
      "source": [
        "## Neural Network Overview\n",
        "\n",
        "<img src=\"http://cs231n.github.io/assets/nn1/neural_net2.jpeg\" alt=\"nn\" style=\"width: 400px;\"/>\n",
        "\n",
        "## MNIST Dataset Overview\n",
        "\n"
      ]
    },
    {
      "cell_type": "code",
      "metadata": {
        "id": "qdOjSpvgDhZ5"
      },
      "source": [
        "from __future__ import absolute_import, division, print_function\n",
        "\n",
        "import torch\n",
        "import torch.nn as nn\n",
        "import torch.nn.functional as F\n",
        "import torch.optim as optim\n",
        "import torchvision\n",
        "import torchvision.transforms as transforms\n",
        "from torch.autograd import Variable\n",
        "from torch.utils.data import DataLoader, TensorDataset, random_split\n",
        "import numpy as np"
      ],
      "execution_count": null,
      "outputs": []
    },
    {
      "cell_type": "code",
      "metadata": {
        "id": "VozvoFF6gXDB"
      },
      "source": [
        "# Chuẩn bị dữ liệu\n",
        "from tensorflow.keras.datasets import mnist\n",
        "(x_train, y_train), (x_test, y_test) = mnist.load_data()\n",
        "# Chuyển đổi sang định dạng float32.\n",
        "x_train, x_test = np.array(x_train, np.float32), np.array(x_test, np.float32)\n",
        "# Chuẩn hóa ảnh từ from [0, 255] to [0, 1].\n",
        "x_train, x_test = x_train / 255, x_test / 255\n",
        "x_train, x_test, y_train, y_test = torch.from_numpy(x_train), torch.from_numpy(x_test), torch.from_numpy(y_train).type(torch.LongTensor), torch.from_numpy(y_test).type(torch.LongTensor)"
      ],
      "execution_count": null,
      "outputs": []
    },
    {
      "cell_type": "code",
      "metadata": {
        "id": "2l0-L8j1pTAo"
      },
      "source": [
        "# MNIST dataset parameters.\n",
        "num_classes = 10 # total classes (0-9 digits).\n",
        "num_features = 784 # data features (img shape: 28*28).\n",
        "\n",
        "# Network parameters.\n",
        "n_hidden_1 = 128 # 1st layer number of neurons.\n",
        "# n_hidden_2 = 256 # 2nd layer number of neurons."
      ],
      "execution_count": null,
      "outputs": []
    },
    {
      "cell_type": "code",
      "metadata": {
        "id": "DmRW7160DhZ5"
      },
      "source": [
        "batch_size = 16"
      ],
      "execution_count": null,
      "outputs": []
    },
    {
      "cell_type": "code",
      "metadata": {
        "id": "jlCutM-HgnGm"
      },
      "source": [
        "trainloader = []\n",
        "for (i,j) in zip(x_train, y_train):\n",
        "    trainloader.append([i,j])\n",
        "trainloader = torch.utils.data.DataLoader(trainloader, shuffle=True, batch_size=batch_size)\n",
        "\n",
        "testloader = []\n",
        "for (i,j) in zip(x_test, y_test):\n",
        "    testloader.append([i,j])\n",
        "testloader = torch.utils.data.DataLoader(testloader, shuffle=True, batch_size=batch_size)"
      ],
      "execution_count": null,
      "outputs": []
    },
    {
      "cell_type": "markdown",
      "metadata": {
        "id": "2ozBMqxygTt3"
      },
      "source": [
        "## Hiển thị một vài ví dụ"
      ]
    },
    {
      "cell_type": "code",
      "metadata": {
        "id": "OKzi3NK4INqd",
        "colab": {
          "base_uri": "https://localhost:8080/",
          "height": 274
        },
        "outputId": "15a8443b-debd-4936-ecac-333f95f4b53e"
      },
      "source": [
        "import matplotlib.pyplot as plt\n",
        "%matplotlib inline\n",
        "\n",
        "dataiter = iter(trainloader)\n",
        "images, labels = next(dataiter)\n",
        "images = images.numpy()\n",
        "\n",
        "# hiển thị dữ liệu theo từng batch và nhãn tương ứng\n",
        "fig = plt.figure(figsize=(25, 4))\n",
        "for idx in np.arange(batch_size):\n",
        "    ax = fig.add_subplot(2, int(batch_size/2), idx+1, xticks=[], yticks=[])\n",
        "    ax.imshow(np.squeeze(images[idx]), cmap='gray')\n",
        "    ax.set_title(str(labels[idx].item()))"
      ],
      "execution_count": null,
      "outputs": [
        {
          "output_type": "display_data",
          "data": {
            "text/plain": [
              "<Figure size 2500x400 with 16 Axes>"
            ],
            "image/png": "[encoded data removed]"
          },
          "metadata": {}
        }
      ]
    },
    {
      "cell_type": "code",
      "metadata": {
        "id": "Rql7CBYODhZ6",
        "colab": {
          "base_uri": "https://localhost:8080/"
        },
        "outputId": "2a6e20e8-bb66-4b4b-d61c-bb51798c18c4"
      },
      "source": [
        "import torch.nn as nn\n",
        "import torch.nn.functional as F\n",
        "\n",
        "## định nghĩa mạng\n",
        "class MLPModel(nn.Module):\n",
        "    def __init__(self):\n",
        "        super(MLPModel, self).__init__()\n",
        "        self.fc1 = nn.Linear(num_features, n_hidden_1)\n",
        "        # linear layer (n_hidden -> hidden_2)\n",
        "        self.fc2 = nn.Linear(n_hidden_1, num_classes)\n",
        "\n",
        "    def forward(self, x):\n",
        "        # chuyển từ định dạng ma trận thành vector\n",
        "        x = x.view(-1, 28 * 28)\n",
        "        # add hidden layer, with relu activation function\n",
        "        x = F.relu(self.fc1(x))\n",
        "        x = F.relu(self.fc2(x))\n",
        "        return x\n",
        "\n",
        "# initialize the NN\n",
        "model = MLPModel()\n",
        "print(model)"
      ],
      "execution_count": null,
      "outputs": [
        {
          "output_type": "stream",
          "name": "stdout",
          "text": [
            "MLPModel(\n",
            "  (fc1): Linear(in_features=784, out_features=128, bias=True)\n",
            "  (fc2): Linear(in_features=128, out_features=10, bias=True)\n",
            ")\n"
          ]
        }
      ]
    },
    {
      "cell_type": "code",
      "metadata": {
        "id": "hCTP3kWMng7e"
      },
      "source": [
        "import torch.optim as optim\n",
        "# trong hàm loss cross entropy đã áp dụng hàm soft max cho vector đầu ra\n",
        "criterion = nn.CrossEntropyLoss()\n",
        "optimizer = optim.SGD(model.parameters(), lr=0.01)"
      ],
      "execution_count": null,
      "outputs": []
    },
    {
      "cell_type": "code",
      "metadata": {
        "id": "F08Eg4vfmtOQ"
      },
      "source": [
        "def accuracy():\n",
        "    correct = 0\n",
        "    total = 0\n",
        "    # since we're not training, we don't need to calculate the gradients for our outputs\n",
        "    with torch.no_grad():\n",
        "        for data in testloader:\n",
        "            images, labels = data\n",
        "            # calculate outputs by running images through the network\n",
        "            outputs = model(images)\n",
        "            # the class with the highest energy is what we choose as prediction\n",
        "            _, predicted = torch.max(outputs.data, 1)\n",
        "            total += labels.size(0)\n",
        "            correct += (predicted == labels).sum().item()\n",
        "\n",
        "    return correct/total"
      ],
      "execution_count": null,
      "outputs": []
    },
    {
      "cell_type": "code",
      "metadata": {
        "id": "NDl_S1CynsUR",
        "colab": {
          "base_uri": "https://localhost:8080/"
        },
        "outputId": "a7d08009-d3dc-4037-ffa2-bf3cfa16e595"
      },
      "source": [
        "losses = []\n",
        "for epoch in range(100):  # loop over the dataset multiple times\n",
        "\n",
        "    running_loss = 0.0\n",
        "    for i, data in enumerate(trainloader, 0):\n",
        "        # get the inputs; data is a list of [inputs, labels]\n",
        "        inputs, labels = data\n",
        "\n",
        "        # zero the parameter gradients\n",
        "        optimizer.zero_grad()\n",
        "\n",
        "        # forward + backward + optimize\n",
        "        outputs = model(inputs)\n",
        "        loss = criterion(outputs, labels)\n",
        "        loss.backward()\n",
        "        optimizer.step()\n",
        "\n",
        "        # print statistics\n",
        "        running_loss += loss.item()\n",
        "    losses.append(running_loss)\n",
        "    if epoch % 10 == 9:\n",
        "        print('Iteration: %d, accuracy: %.3f' %(epoch + 1, accuracy()))\n",
        "\n",
        "print('Finished Training')"
      ],
      "execution_count": null,
      "outputs": [
        {
          "output_type": "stream",
          "name": "stdout",
          "text": [
            "Iteration: 10, accuracy: 0.768\n",
            "Iteration: 20, accuracy: 0.770\n",
            "Iteration: 30, accuracy: 0.774\n",
            "Iteration: 40, accuracy: 0.774\n",
            "Iteration: 50, accuracy: 0.773\n",
            "Iteration: 60, accuracy: 0.774\n",
            "Iteration: 70, accuracy: 0.774\n",
            "Iteration: 80, accuracy: 0.774\n",
            "Iteration: 90, accuracy: 0.774\n",
            "Iteration: 100, accuracy: 0.774\n",
            "Finished Training\n"
          ]
        }
      ]
    },
    {
      "cell_type": "code",
      "metadata": {
        "colab": {
          "base_uri": "https://localhost:8080/",
          "height": 430
        },
        "id": "wULStpofn6KQ",
        "outputId": "9f2aa502-0c6f-499a-9a78-3d782006cdd7"
      },
      "source": [
        "# Biểu đồ biểu diễn độ biến thiên của hàm mất mát qua các vòng lặp\n",
        "plt.plot([i for i in range(len(losses))], losses, label='Loss line')\n",
        "# plt.plot(X, np.array(W * X + b), label='Fitted line')\n",
        "plt.legend()\n",
        "plt.show()"
      ],
      "execution_count": null,
      "outputs": [
        {
          "output_type": "display_data",
          "data": {
            "text/plain": [
              "<Figure size 640x480 with 1 Axes>"
            ],
            "image/png": "[encoded data removed]"
          },
          "metadata": {}
        }
      ]
    },
    {
      "cell_type": "markdown",
      "metadata": {
        "id": "r9TNrG3r0OYV"
      },
      "source": [
        "## Bài tập\n",
        "\n",
        "*   Tiến hành huấn luyện mô hình với số lượng epoch lần lượt là 50, 100, 150.Rút ra nhận xét.\n",
        "\n"
      ]
    },
    {
      "cell_type": "code",
      "source": [
        "losses_1 = []\n",
        "for epoch in range(50):  # loop over the dataset multiple times\n",
        "\n",
        "    running_loss = 0.0\n",
        "    for i, data in enumerate(trainloader, 0):\n",
        "        # get the inputs; data is a list of [inputs, labels]\n",
        "        inputs, labels = data\n",
        "\n",
        "        # zero the parameter gradients\n",
        "        optimizer.zero_grad()\n",
        "\n",
        "        # forward + backward + optimize\n",
        "        outputs = model(inputs)\n",
        "        loss = criterion(outputs, labels)\n",
        "        loss.backward()\n",
        "        optimizer.step()\n",
        "\n",
        "        # print statistics\n",
        "        running_loss += loss.item()\n",
        "    losses_1.append(running_loss)\n",
        "    if epoch % 10 == 9:\n",
        "        print('Iteration: %d, accuracy: %.3f' %(epoch + 1, accuracy()))\n",
        "\n",
        "print('Finished Training')\n",
        "\n",
        "plt.plot([i for i in range(len(losses_1))], losses_1, label='Loss line')\n",
        "plt.legend()\n",
        "plt.show()"
      ],
      "metadata": {
        "colab": {
          "base_uri": "https://localhost:8080/",
          "height": 549
        },
        "id": "KghiHZTB-Fen",
        "outputId": "b00569f9-e50c-4323-e896-72fcfceaf7e7"
      },
      "execution_count": null,
      "outputs": [
        {
          "output_type": "stream",
          "name": "stdout",
          "text": [
            "Iteration: 10, accuracy: 0.774\n",
            "Iteration: 20, accuracy: 0.774\n",
            "Iteration: 30, accuracy: 0.774\n",
            "Iteration: 40, accuracy: 0.774\n",
            "Iteration: 50, accuracy: 0.774\n",
            "Finished Training\n"
          ]
        },
        {
          "output_type": "display_data",
          "data": {
            "text/plain": [
              "<Figure size 640x480 with 1 Axes>"
            ],
            "image/png": "[encoded data removed]"
          },
          "metadata": {}
        }
      ]
    },
    {
      "cell_type": "code",
      "source": [
        "losses_2 = []\n",
        "for epoch in range(150):  # loop over the dataset multiple times\n",
        "\n",
        "    running_loss = 0.0\n",
        "    for i, data in enumerate(trainloader, 0):\n",
        "        # get the inputs; data is a list of [inputs, labels]\n",
        "        inputs, labels = data\n",
        "\n",
        "        # zero the parameter gradients\n",
        "        optimizer.zero_grad()\n",
        "\n",
        "        # forward + backward + optimize\n",
        "        outputs = model(inputs)\n",
        "        loss = criterion(outputs, labels)\n",
        "        loss.backward()\n",
        "        optimizer.step()\n",
        "\n",
        "        # print statistics\n",
        "        running_loss += loss.item()\n",
        "    losses_2.append(running_loss)\n",
        "    if epoch % 10 == 9:\n",
        "        print('Iteration: %d, accuracy: %.3f' %(epoch + 1, accuracy()))\n",
        "\n",
        "print('Finished Training')\n",
        "\n",
        "plt.plot([i for i in range(len(losses_2))], losses_2, label='Loss line')\n",
        "plt.legend()\n",
        "plt.show()"
      ],
      "metadata": {
        "colab": {
          "base_uri": "https://localhost:8080/",
          "height": 708
        },
        "id": "mH_U19t2-86J",
        "outputId": "d4cd07d7-92e2-465a-817a-17da93aab733"
      },
      "execution_count": null,
      "outputs": [
        {
          "output_type": "stream",
          "name": "stdout",
          "text": [
            "Iteration: 10, accuracy: 0.774\n",
            "Iteration: 20, accuracy: 0.774\n",
            "Iteration: 30, accuracy: 0.774\n",
            "Iteration: 40, accuracy: 0.774\n",
            "Iteration: 50, accuracy: 0.774\n",
            "Iteration: 60, accuracy: 0.774\n",
            "Iteration: 70, accuracy: 0.774\n",
            "Iteration: 80, accuracy: 0.774\n",
            "Iteration: 90, accuracy: 0.774\n",
            "Iteration: 100, accuracy: 0.774\n",
            "Iteration: 110, accuracy: 0.774\n",
            "Iteration: 120, accuracy: 0.774\n",
            "Iteration: 130, accuracy: 0.774\n",
            "Iteration: 140, accuracy: 0.774\n",
            "Iteration: 150, accuracy: 0.774\n",
            "Finished Training\n"
          ]
        },
        {
          "output_type": "display_data",
          "data": {
            "text/plain": [
              "<Figure size 640x480 with 1 Axes>"
            ],
            "image/png": "[encoded data removed]"
          },
          "metadata": {}
        }
      ]
    },
    {
      "cell_type": "markdown",
      "source": [
        "Epoch = 50:  Đồ thị hàm loss giảm và accuracy trên tập test tăng.\n",
        "\n",
        "Epoch = 100: Accuracy trên tập test tăng, nhưng tốc độ tăng chậm lại. Đồ thị loss sẽ gần như đi ngang, mô hình đang tiến gần đến điểm hội tụ\n",
        "\n",
        "Epoch = 150: Không cải thiện nhiều về accuracy, thậm chí overfitting"
      ],
      "metadata": {
        "id": "1kx_V3g3_Fxn"
      }
    },
    {
      "cell_type": "markdown",
      "metadata": {
        "id": "ByD_DioQ0n58"
      },
      "source": [
        "\n",
        "\n",
        "*   Hiển thị một số kết quả\n",
        "\n"
      ]
    },
    {
      "cell_type": "code",
      "metadata": {
        "id": "EPVrejvmDhZ_",
        "colab": {
          "base_uri": "https://localhost:8080/",
          "height": 191
        },
        "outputId": "3f19b554-38a4-40de-ebe6-1cadbf7f92e8"
      },
      "source": [
        "# obtain one batch of test images\n",
        "dataiter = iter(testloader)\n",
        "images, labels = dataiter.next()\n",
        "\n",
        "# get sample outputs\n",
        "output = model(images)\n",
        "# convert output probabilities to predicted class\n",
        "_, preds = torch.max(output, 1)\n",
        "# prep images for display\n",
        "images = images.numpy()\n",
        "\n",
        "# plot the images in the batch, along with predicted and true labels\n",
        "fig = plt.figure(figsize=(25, 4))\n",
        "for idx in np.arange(batch_size):\n",
        "    ax = fig.add_subplot(2, batch_size/2, idx+1, xticks=[], yticks=[])\n",
        "    ax.imshow(np.squeeze(images[idx]), cmap='gray')\n",
        "    ax.set_title(\"{} ({})\".format(str(preds[idx].item()), str(labels[idx].item())),\n",
        "                 color=(\"green\" if preds[idx]==labels[idx] else \"red\"))"
      ],
      "execution_count": null,
      "outputs": [
        {
          "output_type": "display_data",
          "data": {
            "image/png": "[encoded data removed]",
            "text/plain": [
              "<Figure size 1800x288 with 16 Axes>"
            ]
          },
          "metadata": {}
        }
      ]
    },
    {
      "cell_type": "code",
      "metadata": {
        "id": "M64NL8UXhe00"
      },
      "source": [],
      "execution_count": null,
      "outputs": []
    },
    {
      "cell_type": "markdown",
      "metadata": {
        "id": "LZnmFyT3yvBd"
      },
      "source": [
        "## Bài tập\n",
        "\n",
        "*   Thiết lập thêm 3 mạng nơ ron với số tầng ẩn lần lượt là 3,5 (số lượng nơ ron của các tầng tùy ý). Với mỗi mạng mới được sinh ra, áp dụng learning-rate lần lượt bằng 0.1, 0,05, 0.001 để huấn luyện. Huấn luyện qua khoảng 100 epoch.\n",
        "*   Chia tập train hiện có thành 2 phần. **85%** dữ liệu làm tập **train**, **15%** còn lại làm tập **dev**. Huấn luyện các mô hình tạo ra ở bước trên với tập **train** mới, sau đó kiểm thử trên tập **dev**.\n",
        "* Dùng các model kiểm thử trên tập **test**. So sánh model cho kết quả tốt nhất khi kiểm thử trên 2 tập này và rút ra nhận xét về vai trò của tập **dev**\n",
        "\n"
      ]
    },
    {
      "cell_type": "code",
      "source": [
        "(x_train_full, y_train_full), (x_test, y_test) = mnist.load_data()\n",
        "\n",
        "x_train_full, x_test = np.array(x_train_full, np.float32), np.array(x_test, np.float32)\n",
        "x_train_full, x_test = x_train_full / 255, x_test / 255\n",
        "x_train_full_tensor, x_test_tensor, y_train_full_tensor, y_test_tensor = torch.from_numpy(x_train_full), torch.from_numpy(x_test), torch.from_numpy(y_train_full).type(torch.LongTensor), torch.from_numpy(y_test).type(torch.LongTensor)\n",
        "\n",
        "full_train_dataset = TensorDataset(x_train_full_tensor, y_train_full_tensor)\n",
        "test_dataset = TensorDataset(x_test_tensor, y_test_tensor)\n",
        "\n",
        "train_size = int(0.85 * len(full_train_dataset))\n",
        "dev_size = len(full_train_dataset) - train_size\n",
        "train_subset, dev_subset = random_split(full_train_dataset, [train_size, dev_size])\n",
        "\n",
        "trainloader_new = DataLoader(train_subset, shuffle=True, batch_size=batch_size)\n",
        "devloader = DataLoader(dev_subset, shuffle=False, batch_size=batch_size)\n",
        "testloader = DataLoader(test_dataset, shuffle=False, batch_size=batch_size)\n",
        "\n",
        "print(f\"Số lượng mẫu trong tập train mới: {len(train_subset)}\")\n",
        "print(f\"Số lượng mẫu trong tập dev: {len(dev_subset)}\")\n",
        "print(f\"Số lượng mẫu trong tập test: {len(test_dataset)}\")"
      ],
      "metadata": {
        "colab": {
          "base_uri": "https://localhost:8080/"
        },
        "id": "m7YutWllAuHf",
        "outputId": "3461c274-3d5c-430b-a2c5-cba4ef2d6b53"
      },
      "execution_count": null,
      "outputs": [
        {
          "output_type": "stream",
          "name": "stdout",
          "text": [
            "Số lượng mẫu trong tập train mới: 51000\n",
            "Số lượng mẫu trong tập dev: 9000\n",
            "Số lượng mẫu trong tập test: 10000\n"
          ]
        }
      ]
    },
    {
      "cell_type": "code",
      "metadata": {
        "id": "kHagR4zz1_Ek"
      },
      "source": [
        "class MLP_2_Hidden(nn.Module):\n",
        "    def __init__(self):\n",
        "        super(MLP_2_Hidden, self).__init__()\n",
        "        self.fc1 = nn.Linear(num_features, 256)\n",
        "        self.fc2 = nn.Linear(256, 128)\n",
        "        self.fc3 = nn.Linear(128, num_classes)\n",
        "\n",
        "    def forward(self, x):\n",
        "        x = x.view(-1, 28 * 28)\n",
        "        x = F.relu(self.fc1(x))\n",
        "        x = F.relu(self.fc2(x))\n",
        "        x = self.fc3(x)\n",
        "        return x\n",
        "\n",
        "class MLP_3_Hidden(nn.Module):\n",
        "    def __init__(self):\n",
        "        super(MLP_3_Hidden, self).__init__()\n",
        "        self.fc1 = nn.Linear(num_features, 256)\n",
        "        self.fc2 = nn.Linear(256, 128)\n",
        "        self.fc3 = nn.Linear(128, 64)\n",
        "        self.fc4 = nn.Linear(64, num_classes)\n",
        "\n",
        "    def forward(self, x):\n",
        "        x = x.view(-1, 28 * 28)\n",
        "        x = F.relu(self.fc1(x))\n",
        "        x = F.relu(self.fc2(x))\n",
        "        x = F.relu(self.fc3(x))\n",
        "        x = self.fc4(x)\n",
        "        return x\n",
        "\n",
        "class MLP_5_Hidden(nn.Module):\n",
        "    def __init__(self):\n",
        "        super(MLP_5_Hidden, self).__init__()\n",
        "        self.fc1 = nn.Linear(num_features, 512)\n",
        "        self.fc2 = nn.Linear(512, 256)\n",
        "        self.fc3 = nn.Linear(256, 128)\n",
        "        self.fc4 = nn.Linear(128, 64)\n",
        "        self.fc5 = nn.Linear(64, 32)\n",
        "        self.fc6 = nn.Linear(32, num_classes)\n",
        "\n",
        "    def forward(self, x):\n",
        "        x = x.view(-1, 28 * 28)\n",
        "        x = F.relu(self.fc1(x))\n",
        "        x = F.relu(self.fc2(x))\n",
        "        x = F.relu(self.fc3(x))\n",
        "        x = F.relu(self.fc4(x))\n",
        "        x = F.relu(self.fc5(x))\n",
        "        x = self.fc6(x)\n",
        "        return x"
      ],
      "execution_count": null,
      "outputs": []
    },
    {
      "cell_type": "code",
      "source": [
        "def evaluate(model, dataloader):\n",
        "    correct = 0\n",
        "    total = 0\n",
        "    with torch.no_grad():\n",
        "        for images, labels in dataloader:\n",
        "            outputs = model(images)\n",
        "            _, predicted = torch.max(outputs.data, 1)\n",
        "            total += labels.size(0)\n",
        "            correct += (predicted == labels).sum().item()\n",
        "    return 100 * correct / total"
      ],
      "metadata": {
        "id": "9bBLL3ltFUhi"
      },
      "execution_count": null,
      "outputs": []
    },
    {
      "cell_type": "code",
      "source": [
        "models_to_test = {\n",
        "    \"2_hidden_layers\": MLP_2_Hidden,\n",
        "    \"3_hidden_layers\": MLP_3_Hidden,\n",
        "    \"5_hidden_layers\": MLP_5_Hidden\n",
        "}\n",
        "learning_rates = [0.1, 0.05, 0.001]\n",
        "num_epochs = 100\n",
        "\n",
        "results = []\n",
        "best_dev_acc = 0\n",
        "best_model_info = {}\n",
        "\n",
        "for name, model_class in models_to_test.items():\n",
        "    for lr in learning_rates:\n",
        "        print(f\"\\n--- Bắt đầu: Model {name}, Learning Rate {lr} ---\")\n",
        "        model = model_class()\n",
        "        criterion = nn.CrossEntropyLoss()\n",
        "        optimizer = optim.SGD(model.parameters(), lr=lr)\n",
        "\n",
        "        for epoch in range(num_epochs):\n",
        "            for i, data in enumerate(trainloader_new, 0):\n",
        "                inputs, labels = data\n",
        "                optimizer.zero_grad()\n",
        "                outputs = model(inputs)\n",
        "                loss = criterion(outputs, labels)\n",
        "                loss.backward()\n",
        "                optimizer.step()\n",
        "\n",
        "        dev_acc = evaluate(model, devloader)\n",
        "        print(f\"-> Kết quả trên tập Dev: {dev_acc:.2f}%\")\n",
        "        results.append({'model': name, 'lr': lr, 'dev_accuracy': dev_acc})\n",
        "\n",
        "        if dev_acc > best_dev_acc:\n",
        "            best_dev_acc = dev_acc\n",
        "            best_model_info = {\n",
        "                \"name\": name,\n",
        "                \"lr\": lr,\n",
        "                \"dev_acc\": dev_acc,\n",
        "                \"model_state\": model.state_dict(),\n",
        "                \"model_class\": model_class\n",
        "            }"
      ],
      "metadata": {
        "colab": {
          "base_uri": "https://localhost:8080/"
        },
        "id": "Pa1S9HLzFbk0",
        "outputId": "d48bd913-12f6-4bc7-8448-7b3f46ebc398"
      },
      "execution_count": null,
      "outputs": [
        {
          "output_type": "stream",
          "name": "stdout",
          "text": [
            "\n",
            "--- Bắt đầu: Model 2_hidden_layers, Learning Rate 0.1 ---\n",
            "-> Kết quả trên tập Dev: 98.26%\n",
            "\n",
            "--- Bắt đầu: Model 2_hidden_layers, Learning Rate 0.05 ---\n",
            "-> Kết quả trên tập Dev: 98.02%\n",
            "\n",
            "--- Bắt đầu: Model 2_hidden_layers, Learning Rate 0.001 ---\n",
            "-> Kết quả trên tập Dev: 96.72%\n",
            "\n",
            "--- Bắt đầu: Model 3_hidden_layers, Learning Rate 0.1 ---\n",
            "-> Kết quả trên tập Dev: 98.18%\n",
            "\n",
            "--- Bắt đầu: Model 3_hidden_layers, Learning Rate 0.05 ---\n",
            "-> Kết quả trên tập Dev: 98.13%\n",
            "\n",
            "--- Bắt đầu: Model 3_hidden_layers, Learning Rate 0.001 ---\n",
            "-> Kết quả trên tập Dev: 97.19%\n",
            "\n",
            "--- Bắt đầu: Model 5_hidden_layers, Learning Rate 0.1 ---\n",
            "-> Kết quả trên tập Dev: 98.23%\n",
            "\n",
            "--- Bắt đầu: Model 5_hidden_layers, Learning Rate 0.05 ---\n",
            "-> Kết quả trên tập Dev: 98.28%\n",
            "\n",
            "--- Bắt đầu: Model 5_hidden_layers, Learning Rate 0.001 ---\n",
            "-> Kết quả trên tập Dev: 96.61%\n"
          ]
        }
      ]
    },
    {
      "cell_type": "code",
      "source": [
        "best_model = best_model_info['model_class']()\n",
        "best_model.load_state_dict(best_model_info['model_state'])\n",
        "\n",
        "# Đánh giá trên tập test\n",
        "test_acc = evaluate(best_model, testloader)\n",
        "print(f\"best: {best_model_info['name']}, lr = {best_model_info['lr']}\")\n",
        "print(test_acc)"
      ],
      "metadata": {
        "colab": {
          "base_uri": "https://localhost:8080/"
        },
        "id": "zcschPhlIBSF",
        "outputId": "41df5019-6cfa-43ca-d106-443e1d50a61c"
      },
      "execution_count": null,
      "outputs": [
        {
          "output_type": "stream",
          "name": "stdout",
          "text": [
            "best: 5_hidden_layers, lr = 0.05\n",
            "98.39\n"
          ]
        }
      ]
    }
  ]
}