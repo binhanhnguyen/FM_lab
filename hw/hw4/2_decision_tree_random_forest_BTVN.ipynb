{
  "cells": [
    {
      "cell_type": "markdown",
      "metadata": {
        "id": "nGDrYY3J04FA"
      },
      "source": [
        "# Bài tập về nhà Decision Tree, Random Forest\n"
      ]
    },
    {
      "cell_type": "markdown",
      "metadata": {
        "id": "qf6VwHyk04FC"
      },
      "source": [
        "- Thực hiện các yêu cầu dưới đây với tập dữ liệu Australian credit\n",
        "- Down dữ liệu tại đường link dưới đây và đặt vào folder /data\n",
        "\n",
        "  https://archive.ics.uci.edu/ml/datasets/Statlog+(Australian+Credit+Approval)\n",
        "    "
      ]
    },
    {
      "cell_type": "code",
      "execution_count": 19,
      "metadata": {
        "id": "SVeHD8IT04FD"
      },
      "outputs": [],
      "source": [
        "# import packages,...\n",
        "import pandas as pd\n",
        "import numpy as np\n",
        "from sklearn.model_selection import train_test_split, cross_val_score, GridSearchCV\n",
        "from sklearn.preprocessing import LabelEncoder\n",
        "from sklearn.tree import DecisionTreeClassifier\n",
        "from sklearn.ensemble import RandomForestClassifier\n",
        "from sklearn.metrics import accuracy_score, confusion_matrix, classification_report\n",
        "from sklearn.preprocessing import OneHotEncoder\n",
        "from sklearn.compose import ColumnTransformer\n",
        "\n",
        "import matplotlib.pyplot as plt\n",
        "# set random_state = 0\n",
        "random_state = 0"
      ]
    },
    {
      "cell_type": "markdown",
      "metadata": {
        "id": "eanGLwNV04FE"
      },
      "source": [
        "## 1. Tìm hiểu dữ liệu"
      ]
    },
    {
      "cell_type": "code",
      "execution_count": 12,
      "metadata": {
        "colab": {
          "base_uri": "https://localhost:8080/"
        },
        "id": "KZrxEXwT04FE",
        "outputId": "cabd2258-e580-4f88-8c7c-39f3a92e67e7"
      },
      "outputs": [
        {
          "output_type": "stream",
          "name": "stdout",
          "text": [
            "<class 'pandas.core.frame.DataFrame'>\n",
            "RangeIndex: 690 entries, 0 to 689\n",
            "Data columns (total 15 columns):\n",
            " #   Column  Non-Null Count  Dtype  \n",
            "---  ------  --------------  -----  \n",
            " 0   A1      690 non-null    float64\n",
            " 1   A2      690 non-null    float64\n",
            " 2   A3      690 non-null    float64\n",
            " 3   A4      690 non-null    float64\n",
            " 4   A5      690 non-null    float64\n",
            " 5   A6      690 non-null    float64\n",
            " 6   A7      690 non-null    float64\n",
            " 7   A8      690 non-null    float64\n",
            " 8   A9      690 non-null    float64\n",
            " 9   A10     690 non-null    float64\n",
            " 10  A11     690 non-null    float64\n",
            " 11  A12     690 non-null    float64\n",
            " 12  A13     690 non-null    float64\n",
            " 13  A14     690 non-null    float64\n",
            " 14  Y       690 non-null    float64\n",
            "dtypes: float64(15)\n",
            "memory usage: 81.0 KB\n",
            "(552, 38) (138, 38)\n"
          ]
        }
      ],
      "source": [
        "'''\n",
        "- Tìm hiểu cấu trúc data tại trang web UCI\n",
        "- Down các files, đặt trong folder data/\n",
        "- Chú ý:\n",
        "    - Đọc mô tả dữ liệu trong file 'australian.doc'\n",
        "    - Kiểm tra DecisionTree/RandomForest của Sklearn có hỗ trợ với kiểu dữ liệu được cung cấp không\n",
        "'''\n",
        "data_array = np.genfromtxt('australian.dat')\n",
        "data_frame = df = pd.DataFrame(data_array, columns=['A'+str(i) for i in range(1, 15)]+['Y'])\n",
        "data_frame.info()\n",
        "\n",
        "X = data_frame.drop('Y', axis=1)\n",
        "y = data_frame['Y']\n",
        "\n",
        "categorical_cols = [3, 4, 5, 11]  # A4, 5, 6, 12\n",
        "\n",
        "# One-hot encode\n",
        "encode_rules = ColumnTransformer(\n",
        "    transformers=[('one_hot_encoder', OneHotEncoder(categories='auto'), categorical_cols)],\n",
        "    remainder='passthrough'  # giữ nguyên các cột còn lại\n",
        ")\n",
        "\n",
        "X = encode_rules.fit_transform(X)\n",
        "\n",
        "#Chia dữ liệu train/test\n",
        "X_train, X_test, y_train, y_test = train_test_split(\n",
        "    X, y, test_size=0.2, random_state=random_state)\n",
        "print(X_train.shape, X_test.shape)"
      ]
    },
    {
      "cell_type": "markdown",
      "metadata": {
        "id": "V-_I7Gpw04FE"
      },
      "source": [
        "## 2. Decision Tree"
      ]
    },
    {
      "cell_type": "markdown",
      "metadata": {
        "id": "r5pXfQsi04FF"
      },
      "source": [
        "### 2.1. Khảo sát các giá trị khác nhau của max_depth"
      ]
    },
    {
      "cell_type": "code",
      "execution_count": 32,
      "metadata": {
        "colab": {
          "base_uri": "https://localhost:8080/",
          "height": 465
        },
        "id": "haXx6tza04FF",
        "outputId": "a667b434-d21c-4a93-dcf5-6395f68fdbbf"
      },
      "outputs": [
        {
          "output_type": "display_data",
          "data": {
            "text/plain": [
              "<Figure size 800x500 with 1 Axes>"
            ],
            "image/png": "[encoded data removed]"
          },
          "metadata": {}
        }
      ],
      "source": [
        "max_depths = np.arange(2, 15)\n",
        "acc = []\n",
        "cv = []\n",
        "\n",
        "for depth in max_depths:\n",
        "    dt = DecisionTreeClassifier(max_depth=depth, random_state=random_state)\n",
        "    dt.fit(X_train, y_train)\n",
        "\n",
        "    # cross-validation (k=5)\n",
        "    cv_score = cross_val_score(dt, X_train, y_train, cv=5, scoring='accuracy')\n",
        "    cv.append(np.mean(cv_score))\n",
        "\n",
        "    # accuracy\n",
        "    dt.fit(X_train, y_train)\n",
        "    y_pred = dt.predict(X_test)\n",
        "    accuracy = accuracy_score(y_test, y_pred)\n",
        "    acc.append(accuracy)\n",
        "\n",
        "plt.figure(figsize=(8,5))\n",
        "plt.plot(max_depths, cv,  label='Cross-validation score')\n",
        "plt.plot(max_depths, acc, label='Test accuracy')\n",
        "plt.xlabel('Max Depth')\n",
        "plt.ylabel('Score')\n",
        "# plt.xticks(depth)\n",
        "plt.legend()\n",
        "# plt.grid(True)\n",
        "plt.show()"
      ]
    },
    {
      "cell_type": "markdown",
      "metadata": {
        "id": "Svm_kjK504FF"
      },
      "source": [
        "### 2.2. Tìm kiếm siêu tham số"
      ]
    },
    {
      "cell_type": "code",
      "execution_count": 25,
      "metadata": {
        "colab": {
          "base_uri": "https://localhost:8080/"
        },
        "id": "yKzjdjRY04FF",
        "outputId": "d35d1f97-7b6a-4c37-e880-5d97a06fa23e"
      },
      "outputs": [
        {
          "output_type": "stream",
          "name": "stdout",
          "text": [
            "Best parameters: {'max_depth': 10, 'min_samples_leaf': 2, 'min_samples_split': 20}\n",
            "Test Accuracy:  0.8623188405797102\n"
          ]
        }
      ],
      "source": [
        "#code\n",
        "param_grid = {\n",
        "    'max_depth': [3, 5, 7, 10, 15, 20],\n",
        "    'min_samples_split': [2, 5, 10, 20],\n",
        "    'min_samples_leaf': [1, 2, 4, 8]\n",
        "}\n",
        "\n",
        "grid_search = GridSearchCV(DecisionTreeClassifier(random_state=random_state), param_grid, cv=5, scoring='accuracy', n_jobs=-1)\n",
        "grid_search.fit(X_train, y_train)\n",
        "\n",
        "best_model = grid_search.best_estimator_\n",
        "test_acc = accuracy_score(y_test, best_model.predict(X_test))\n",
        "\n",
        "print(\"Best parameters:\", grid_search.best_params_)\n",
        "print(\"Test Accuracy: \", test_acc)"
      ]
    },
    {
      "cell_type": "markdown",
      "metadata": {
        "id": "caD7zQHN04FG"
      },
      "source": [
        "## 3. Random Forest"
      ]
    },
    {
      "cell_type": "markdown",
      "metadata": {
        "id": "wu0S7P-o04FG"
      },
      "source": [
        "### 3.1 Khảo sát các giá trị khác nhau của n_estimators"
      ]
    },
    {
      "cell_type": "code",
      "execution_count": 31,
      "metadata": {
        "colab": {
          "base_uri": "https://localhost:8080/",
          "height": 465
        },
        "id": "6XOPxb2C04FG",
        "outputId": "2ecbda11-d3c9-44fe-d06e-bf988d5af128"
      },
      "outputs": [
        {
          "output_type": "display_data",
          "data": {
            "text/plain": [
              "<Figure size 800x500 with 1 Axes>"
            ],
            "image/png": "[encoded data removed]"
          },
          "metadata": {}
        }
      ],
      "source": [
        "#code\n",
        "n_estimators_range = [5, 10, 15, 20, 30, 50, 70, 100, 150]\n",
        "train = []\n",
        "test = []\n",
        "\n",
        "\n",
        "for n_est in n_estimators_range:\n",
        "    rf = RandomForestClassifier(n_estimators=n_est, random_state=random_state, n_jobs=-1)\n",
        "    rf.fit(X_train, y_train)\n",
        "\n",
        "    test.append(accuracy_score(y_test, rf.predict(X_test)))\n",
        "    train.append(cross_val_score(rf, X_train, y_train, cv=5, scoring='accuracy').mean())\n",
        "\n",
        "plt.figure(figsize=(8,5))\n",
        "plt.plot(n_estimators_range, train, label='Train accuracy')\n",
        "plt.plot(n_estimators_range, test, label='Test accuracy')\n",
        "plt.xlabel('n_estimators')\n",
        "plt.ylabel('Score')\n",
        "# plt.xticks(depth)\n",
        "plt.legend()\n",
        "# plt.grid(True)\n",
        "plt.show()"
      ]
    },
    {
      "cell_type": "markdown",
      "metadata": {
        "id": "xm0Anomq04FG"
      },
      "source": [
        "### 3.2 Tìm kiếm siêu tham số"
      ]
    },
    {
      "cell_type": "code",
      "execution_count": 34,
      "metadata": {
        "colab": {
          "base_uri": "https://localhost:8080/"
        },
        "id": "Y4Ly9deP04FG",
        "outputId": "ee817e5b-3519-4550-b2e2-d42538c45013"
      },
      "outputs": [
        {
          "output_type": "stream",
          "name": "stderr",
          "text": [
            "/usr/local/lib/python3.12/dist-packages/sklearn/model_selection/_validation.py:528: FitFailedWarning: \n",
            "1080 fits failed out of a total of 4320.\n",
            "The score on these train-test partitions for these parameters will be set to nan.\n",
            "If these failures are not expected, you can try to debug them by setting error_score='raise'.\n",
            "\n",
            "Below are more details about the failures:\n",
            "--------------------------------------------------------------------------------\n",
            "1080 fits failed with the following error:\n",
            "Traceback (most recent call last):\n",
            "  File \"/usr/local/lib/python3.12/dist-packages/sklearn/model_selection/_validation.py\", line 866, in _fit_and_score\n",
            "    estimator.fit(X_train, y_train, **fit_params)\n",
            "  File \"/usr/local/lib/python3.12/dist-packages/sklearn/base.py\", line 1382, in wrapper\n",
            "    estimator._validate_params()\n",
            "  File \"/usr/local/lib/python3.12/dist-packages/sklearn/base.py\", line 436, in _validate_params\n",
            "    validate_parameter_constraints(\n",
            "  File \"/usr/local/lib/python3.12/dist-packages/sklearn/utils/_param_validation.py\", line 98, in validate_parameter_constraints\n",
            "    raise InvalidParameterError(\n",
            "sklearn.utils._param_validation.InvalidParameterError: The 'max_features' parameter of RandomForestClassifier must be an int in the range [1, inf), a float in the range (0.0, 1.0], a str among {'log2', 'sqrt'} or None. Got 'auto' instead.\n",
            "\n",
            "  warnings.warn(some_fits_failed_message, FitFailedWarning)\n",
            "/usr/local/lib/python3.12/dist-packages/sklearn/model_selection/_search.py:1108: UserWarning: One or more of the test scores are non-finite: [0.82070434 0.84062244 0.84062244 0.84422604 0.84422604 0.84422604\n",
            " 0.84422604 0.84422604 0.84422604 0.81890254 0.84062244 0.84062244\n",
            " 0.84602785 0.84602785 0.84602785 0.84602785 0.84602785 0.84602785\n",
            " 0.83151515 0.84602785 0.84602785 0.84602785 0.84602785 0.84602785\n",
            " 0.84602785 0.84602785 0.84602785 0.84602785 0.84602785 0.84602785\n",
            " 0.84602785 0.84602785 0.84602785 0.84602785 0.84602785 0.84602785\n",
            " 0.84422604 0.80612613 0.81343161 0.78443898 0.802457   0.84232596\n",
            " 0.84235872 0.84058968 0.85685504 0.84422604 0.80612613 0.81523342\n",
            " 0.79531532 0.80242424 0.84414414 0.84054054 0.84239148 0.85143325\n",
            " 0.84602785 0.82602785 0.82602785 0.82055692 0.80609337 0.82786241\n",
            " 0.83146601 0.82968059 0.84778051 0.84602785 0.82602785 0.82602785\n",
            " 0.81698608 0.80624079 0.83154791 0.82607699 0.82968059 0.84419328\n",
            " 0.83151515 0.85506962 0.82432432 0.83153153 0.82252252 0.83695332\n",
            " 0.84958231 0.8423751  0.8441769  0.83151515 0.85506962 0.82432432\n",
            " 0.83331695 0.80622441 0.8351679  0.84596233 0.8423751  0.8441769\n",
            " 0.83151515 0.86047502 0.83695332 0.83151515 0.81886978 0.83878788\n",
            " 0.84234234 0.83149877 0.84597871 0.84602785 0.82972973 0.82974611\n",
            " 0.81695332 0.81883702 0.83515152 0.84054054 0.82789517 0.8441769\n",
            "        nan        nan        nan        nan        nan        nan\n",
            "        nan        nan        nan        nan        nan        nan\n",
            "        nan        nan        nan        nan        nan        nan\n",
            "        nan        nan        nan        nan        nan        nan\n",
            "        nan        nan        nan        nan        nan        nan\n",
            "        nan        nan        nan        nan        nan        nan\n",
            " 0.82429156 0.83154791 0.84787879 0.85510238 0.85323505 0.8604914\n",
            " 0.85867322 0.86592957 0.86411138 0.8225389  0.83700246 0.84062244\n",
            " 0.85326781 0.85685504 0.85865684 0.86045864 0.86591319 0.864095\n",
            " 0.83151515 0.8405733  0.84602785 0.84420966 0.85503686 0.84963145\n",
            " 0.84779689 0.85321867 0.85505324 0.84602785 0.84602785 0.84602785\n",
            " 0.84602785 0.84602785 0.84602785 0.84602785 0.84602785 0.84602785\n",
            " 0.84596233 0.81880426 0.84416052 0.84235872 0.81336609 0.84412776\n",
            " 0.86044226 0.8586896  0.87131859 0.82974611 0.81883702 0.85321867\n",
            " 0.83331695 0.82420966 0.84959869 0.86047502 0.86230958 0.86953317\n",
            " 0.84782965 0.82054054 0.83148239 0.8006552  0.79154791 0.84961507\n",
            " 0.85320229 0.85506962 0.864095   0.84602785 0.82602785 0.82602785\n",
            " 0.82060606 0.80260442 0.83701884 0.82968059 0.83330057 0.85323505\n",
            " 0.83326781 0.82601147 0.83149877 0.8206552  0.83506962 0.8423751\n",
            " 0.84956593 0.85685504 0.86226044 0.84234234 0.84227682 0.84779689\n",
            " 0.81334971 0.82969697 0.84597871 0.86588043 0.85143325 0.85505324\n",
            " 0.85323505 0.85141687 0.86412776 0.85328419 0.83148239 0.84597871\n",
            " 0.86230958 0.84601147 0.85865684 0.84602785 0.82972973 0.82974611\n",
            " 0.81695332 0.81883702 0.8387715  0.84054054 0.83151515 0.84959869\n",
            "        nan        nan        nan        nan        nan        nan\n",
            "        nan        nan        nan        nan        nan        nan\n",
            "        nan        nan        nan        nan        nan        nan\n",
            "        nan        nan        nan        nan        nan        nan\n",
            "        nan        nan        nan        nan        nan        nan\n",
            "        nan        nan        nan        nan        nan        nan\n",
            " 0.80792793 0.81154791 0.85144963 0.8604914  0.86224406 0.87316953\n",
            " 0.86047502 0.86411138 0.86956593 0.83158067 0.82789517 0.84244062\n",
            " 0.84963145 0.855086   0.8604914  0.864095   0.86411138 0.86412776\n",
            " 0.83151515 0.84239148 0.84784603 0.84420966 0.86412776 0.84963145\n",
            " 0.85325143 0.85685504 0.85505324 0.84602785 0.84602785 0.84602785\n",
            " 0.84602785 0.84602785 0.84602785 0.84602785 0.84602785 0.84602785\n",
            " 0.82239148 0.83515152 0.85321867 0.85321867 0.84222768 0.86217854\n",
            " 0.86950041 0.87308763 0.87492219 0.83510238 0.84778051 0.8550041\n",
            " 0.85143325 0.85318591 0.8586077  0.8604914  0.86954955 0.87493857\n",
            " 0.84782965 0.82054054 0.82966421 0.81703522 0.82779689 0.86226044\n",
            " 0.85683866 0.85503686 0.86411138 0.84602785 0.82602785 0.82602785\n",
            " 0.82060606 0.80260442 0.83701884 0.82968059 0.83330057 0.85323505\n",
            " 0.82072072 0.8207371  0.84062244 0.84602785 0.84604423 0.84966421\n",
            " 0.86954955 0.87133497 0.87131859 0.83154791 0.8605733  0.85328419\n",
            " 0.85687142 0.85870598 0.87315315 0.87677314 0.86589681 0.86951679\n",
            " 0.85323505 0.85867322 0.84054054 0.8242588  0.8152498  0.83151515\n",
            " 0.85867322 0.84602785 0.86411138 0.84602785 0.82972973 0.82974611\n",
            " 0.81695332 0.81883702 0.8387715  0.84054054 0.83151515 0.84959869\n",
            "        nan        nan        nan        nan        nan        nan\n",
            "        nan        nan        nan        nan        nan        nan\n",
            "        nan        nan        nan        nan        nan        nan\n",
            "        nan        nan        nan        nan        nan        nan\n",
            "        nan        nan        nan        nan        nan        nan\n",
            "        nan        nan        nan        nan        nan        nan\n",
            " 0.8152498  0.80252252 0.83341523 0.84963145 0.86226044 0.87316953\n",
            " 0.87136773 0.87318591 0.87682228 0.83158067 0.8242588  0.8442588\n",
            " 0.84781327 0.85146601 0.8604914  0.86047502 0.86411138 0.86230958\n",
            " 0.83151515 0.84239148 0.84784603 0.84420966 0.86412776 0.84963145\n",
            " 0.85325143 0.85685504 0.85505324 0.84602785 0.84602785 0.84602785\n",
            " 0.84602785 0.84602785 0.84602785 0.84602785 0.84602785 0.84602785\n",
            " 0.81700246 0.82427518 0.82789517 0.85143325 0.86588043 0.86404586\n",
            " 0.87498771 0.87495495 0.87857494 0.84050778 0.83334971 0.84060606\n",
            " 0.84420966 0.86768223 0.87128583 0.86588043 0.86586405 0.86950041\n",
            " 0.84782965 0.82054054 0.82966421 0.81703522 0.82779689 0.86226044\n",
            " 0.85683866 0.85503686 0.86411138 0.84602785 0.82602785 0.82602785\n",
            " 0.82060606 0.80260442 0.83701884 0.82968059 0.83330057 0.85323505\n",
            " 0.81703522 0.79898444 0.84062244 0.84058968 0.84959869 0.86951679\n",
            " 0.86588043 0.87497133 0.87859132 0.82614251 0.84424242 0.85156429\n",
            " 0.84242424 0.85146601 0.86769861 0.87316953 0.86589681 0.87493857\n",
            " 0.85323505 0.85867322 0.84054054 0.8242588  0.8152498  0.83151515\n",
            " 0.85867322 0.84602785 0.86411138 0.84602785 0.82972973 0.82974611\n",
            " 0.81695332 0.81883702 0.8387715  0.84054054 0.83151515 0.84959869\n",
            "        nan        nan        nan        nan        nan        nan\n",
            "        nan        nan        nan        nan        nan        nan\n",
            "        nan        nan        nan        nan        nan        nan\n",
            "        nan        nan        nan        nan        nan        nan\n",
            "        nan        nan        nan        nan        nan        nan\n",
            "        nan        nan        nan        nan        nan        nan\n",
            " 0.80982801 0.80068796 0.84248976 0.84968059 0.8604914  0.86958231\n",
            " 0.86774775 0.88042588 0.88042588 0.83158067 0.8242588  0.8442588\n",
            " 0.84781327 0.85146601 0.8604914  0.86047502 0.86411138 0.86230958\n",
            " 0.83151515 0.84239148 0.84784603 0.84420966 0.86412776 0.84963145\n",
            " 0.85325143 0.85685504 0.85505324 0.84602785 0.84602785 0.84602785\n",
            " 0.84602785 0.84602785 0.84602785 0.84602785 0.84602785 0.84602785\n",
            " 0.82968059 0.78982801 0.84601147 0.85675676 0.86764947 0.87128583\n",
            " 0.86406224 0.87677314 0.87316953 0.84050778 0.82607699 0.83153153\n",
            " 0.84599509 0.87312039 0.87313677 0.88037674 0.86589681 0.87495495\n",
            " 0.84782965 0.82054054 0.82966421 0.81703522 0.82779689 0.86226044\n",
            " 0.85683866 0.85503686 0.86411138 0.84602785 0.82602785 0.82602785\n",
            " 0.82060606 0.80260442 0.83701884 0.82968059 0.83330057 0.85323505\n",
            " 0.80443898 0.77724816 0.83154791 0.82614251 0.86776413 0.86771499\n",
            " 0.87497133 0.87862408 0.87497133 0.82614251 0.84424242 0.84976249\n",
            " 0.84606061 0.85141687 0.86953317 0.86953317 0.86769861 0.87133497\n",
            " 0.85323505 0.85867322 0.84054054 0.8242588  0.8152498  0.83151515\n",
            " 0.85867322 0.84602785 0.86411138 0.84602785 0.82972973 0.82974611\n",
            " 0.81695332 0.81883702 0.8387715  0.84054054 0.83151515 0.84959869\n",
            "        nan        nan        nan        nan        nan        nan\n",
            "        nan        nan        nan        nan        nan        nan\n",
            "        nan        nan        nan        nan        nan        nan\n",
            "        nan        nan        nan        nan        nan        nan\n",
            "        nan        nan        nan        nan        nan        nan\n",
            "        nan        nan        nan        nan        nan        nan\n",
            " 0.81164619 0.80068796 0.84248976 0.84786241 0.8586896  0.86958231\n",
            " 0.86592957 0.88042588 0.87678952 0.83158067 0.8242588  0.8442588\n",
            " 0.84781327 0.85146601 0.8604914  0.86047502 0.86411138 0.86230958\n",
            " 0.83151515 0.84239148 0.84784603 0.84420966 0.86412776 0.84963145\n",
            " 0.85325143 0.85685504 0.85505324 0.84602785 0.84602785 0.84602785\n",
            " 0.84602785 0.84602785 0.84602785 0.84602785 0.84602785 0.84602785\n",
            " 0.78085176 0.76453726 0.8189353  0.83515152 0.84055692 0.86951679\n",
            " 0.87313677 0.86589681 0.87497133 0.84050778 0.82607699 0.83153153\n",
            " 0.84599509 0.87857494 0.87313677 0.88037674 0.86589681 0.87313677\n",
            " 0.84782965 0.82054054 0.82966421 0.81703522 0.82779689 0.86226044\n",
            " 0.85683866 0.85503686 0.86411138 0.84602785 0.82602785 0.82602785\n",
            " 0.82060606 0.80260442 0.83701884 0.82968059 0.83330057 0.85323505\n",
            " 0.82789517 0.80078624 0.83695332 0.82972973 0.85510238 0.86044226\n",
            " 0.87498771 0.8768059  0.87498771 0.82614251 0.84424242 0.84976249\n",
            " 0.84606061 0.85141687 0.86773137 0.86591319 0.86769861 0.87315315\n",
            " 0.85323505 0.85867322 0.84054054 0.8242588  0.8152498  0.83151515\n",
            " 0.85867322 0.84602785 0.86411138 0.84602785 0.82972973 0.82974611\n",
            " 0.81695332 0.81883702 0.8387715  0.84054054 0.83151515 0.84959869\n",
            "        nan        nan        nan        nan        nan        nan\n",
            "        nan        nan        nan        nan        nan        nan\n",
            "        nan        nan        nan        nan        nan        nan\n",
            "        nan        nan        nan        nan        nan        nan\n",
            "        nan        nan        nan        nan        nan        nan\n",
            "        nan        nan        nan        nan        nan        nan]\n",
            "  warnings.warn(\n"
          ]
        },
        {
          "output_type": "stream",
          "name": "stdout",
          "text": [
            "Best parameters: {'max_depth': 10, 'max_features': 1.0, 'min_samples_leaf': 1, 'n_estimators': 100}\n",
            "Test Accuracy:  0.8840579710144928\n"
          ]
        }
      ],
      "source": [
        "# code\n",
        "param_grid = {\n",
        "    'max_depth': [2,3,5,7,10, 20],\n",
        "    'min_samples_leaf': [1,10,30,60],\n",
        "    'max_features': [1.0,'log2','sqrt','auto'],\n",
        "    'n_estimators': [1,2,3,5,10, 20, 50, 100,170]\n",
        "}\n",
        "\n",
        "grid_search = GridSearchCV(\n",
        "    RandomForestClassifier(random_state=random_state),\n",
        "    param_grid,\n",
        "    cv=5,\n",
        "    scoring='accuracy',\n",
        "    n_jobs=-1\n",
        ")\n",
        "\n",
        "grid_search.fit(X_train, y_train)\n",
        "\n",
        "best_model = grid_search.best_estimator_\n",
        "test_acc = accuracy_score(y_test, best_model.predict(X_test))\n",
        "\n",
        "print(\"Best parameters:\", grid_search.best_params_)\n",
        "print(\"Test Accuracy: \", test_acc)"
      ]
    }
  ],
  "metadata": {
    "kernelspec": {
      "display_name": "Python 3",
      "language": "python",
      "name": "python3"
    },
    "language_info": {
      "name": "python",
      "version": ""
    },
    "colab": {
      "provenance": []
    }
  },
  "nbformat": 4,
  "nbformat_minor": 0
}