{
  "cells": [
    {
      "cell_type": "markdown",
      "metadata": {
        "id": "CspDnsdcmRze"
      },
      "source": [
        "# BTVN: Training Neural Networks (Tiếp)\n",
        "Trong phần này các bạn sẽ làm quen với kỹ thuật model ensemble để tăng độ chính xác khi suy diễn"
      ]
    },
    {
      "cell_type": "code",
      "execution_count": null,
      "metadata": {
        "colab": {
          "base_uri": "https://localhost:8080/"
        },
        "id": "dALhhAr_5agu",
        "outputId": "33818a20-b18c-4e30-d7d7-9b7ee128fab3"
      },
      "outputs": [
        {
          "output_type": "stream",
          "name": "stdout",
          "text": [
            "Sat Oct 18 16:10:05 2025       \n",
            "+-----------------------------------------------------------------------------------------+\n",
            "| NVIDIA-SMI 550.54.15              Driver Version: 550.54.15      CUDA Version: 12.4     |\n",
            "|-----------------------------------------+------------------------+----------------------+\n",
            "| GPU  Name                 Persistence-M | Bus-Id          Disp.A | Volatile Uncorr. ECC |\n",
            "| Fan  Temp   Perf          Pwr:Usage/Cap |           Memory-Usage | GPU-Util  Compute M. |\n",
            "|                                         |                        |               MIG M. |\n",
            "|=========================================+========================+======================|\n",
            "|   0  Tesla T4                       Off |   00000000:00:04.0 Off |                    0 |\n",
            "| N/A   42C    P8              9W /   70W |       0MiB /  15360MiB |      0%      Default |\n",
            "|                                         |                        |                  N/A |\n",
            "+-----------------------------------------+------------------------+----------------------+\n",
            "                                                                                         \n",
            "+-----------------------------------------------------------------------------------------+\n",
            "| Processes:                                                                              |\n",
            "|  GPU   GI   CI        PID   Type   Process name                              GPU Memory |\n",
            "|        ID   ID                                                               Usage      |\n",
            "|=========================================================================================|\n",
            "|  No running processes found                                                             |\n",
            "+-----------------------------------------------------------------------------------------+\n"
          ]
        }
      ],
      "source": [
        "!nvidia-smi\n",
        "# from google.colab import drive\n",
        "# drive.mount('/content/drive')\n",
        "\n",
        "import torch\n",
        "import torch.nn as nn\n",
        "import torch.optim as optim\n",
        "import numpy as np\n",
        "import glob\n",
        "import cv2\n",
        "import torch.nn.functional as F\n",
        "from torch.autograd import Variable\n",
        "import os\n",
        "\n",
        "import torchvision\n",
        "import torchvision.transforms as transforms\n",
        "\n",
        "from torch.nn import CrossEntropyLoss, Dropout, Softmax, Linear, Conv2d, LayerNorm\n",
        "import matplotlib.pyplot as plt\n",
        "from torchsummary import summary"
      ]
    },
    {
      "cell_type": "markdown",
      "metadata": {
        "id": "1_jDYArKvZ-Z"
      },
      "source": [
        "Tải dữ liệu và cài đặt một kiến trúc mạng nơ-ron đơn giản theo mô tả phía dưới"
      ]
    },
    {
      "cell_type": "code",
      "execution_count": null,
      "metadata": {
        "colab": {
          "base_uri": "https://localhost:8080/"
        },
        "id": "ptNpnOaYCuK6",
        "outputId": "1bc1608b-d503-4900-fc1d-49766af4b56e"
      },
      "outputs": [
        {
          "output_type": "stream",
          "name": "stdout",
          "text": [
            "----------------------------------------------------------------\n",
            "        Layer (type)               Output Shape         Param #\n",
            "================================================================\n",
            "            Conv2d-1            [-1, 6, 28, 28]             456\n",
            "         MaxPool2d-2            [-1, 6, 14, 14]               0\n",
            "            Conv2d-3           [-1, 16, 10, 10]           2,416\n",
            "         MaxPool2d-4             [-1, 16, 5, 5]               0\n",
            "            Linear-5                   [-1, 64]          25,664\n",
            "            Linear-6                   [-1, 32]           2,080\n",
            "            Linear-7                   [-1, 10]             330\n",
            "================================================================\n",
            "Total params: 30,946\n",
            "Trainable params: 30,946\n",
            "Non-trainable params: 0\n",
            "----------------------------------------------------------------\n",
            "Input size (MB): 0.01\n",
            "Forward/backward pass size (MB): 0.06\n",
            "Params size (MB): 0.12\n",
            "Estimated Total Size (MB): 0.19\n",
            "----------------------------------------------------------------\n"
          ]
        }
      ],
      "source": [
        "def load_data(data_dir=\"./data\"):\n",
        "    transform = transforms.Compose([\n",
        "        transforms.ToTensor(),\n",
        "        transforms.Normalize((0.5, 0.5, 0.5), (0.5, 0.5, 0.5))\n",
        "    ])\n",
        "\n",
        "    trainset = torchvision.datasets.CIFAR10(\n",
        "        root=data_dir, train=True, download=True, transform=transform)\n",
        "\n",
        "    testset = torchvision.datasets.CIFAR10(\n",
        "        root=data_dir, train=False, download=True, transform=transform)\n",
        "\n",
        "    return trainset, testset\n",
        "\n",
        "\n",
        "class Net(nn.Module):\n",
        "    def __init__(self, l1=64, l2=32):\n",
        "        super(Net, self).__init__()\n",
        "        self.conv1 = nn.Conv2d(3, 6, 5) # in: (3, 32, 32) -> out: (6, 28, 28)\n",
        "        self.pool = nn.MaxPool2d(2, 2)  # out: (6, 14, 14)\n",
        "        self.conv2 = nn.Conv2d(6, 16, 5) # in: (6, 14, 14) -> out: (16, 10, 10)\n",
        "        # self.pool một lần nữa -> out: (16, 5, 5)\n",
        "\n",
        "        self.fc1 = nn.Linear(16 * 5 * 5, l1)\n",
        "        self.fc2 = nn.Linear(l1, l2)\n",
        "        self.fc3 = nn.Linear(l2, 10)\n",
        "\n",
        "    def forward(self, x):\n",
        "        x = self.pool(F.relu(self.conv1(x)))\n",
        "        x = self.pool(F.relu(self.conv2(x)))\n",
        "        x = torch.flatten(x, 1)\n",
        "        x = F.relu(self.fc1(x))\n",
        "        x = F.relu(self.fc2(x))\n",
        "        x = self.fc3(x)\n",
        "        return x\n",
        "\n",
        "model = Net()\n",
        "if torch.cuda.is_available():\n",
        "    model.cuda()\n",
        "summary(model, (3, 32, 32))"
      ]
    },
    {
      "cell_type": "markdown",
      "metadata": {
        "id": "5frttwG9fJJh"
      },
      "source": [
        "Hàm đánh giá độ chính xác trên tập test"
      ]
    },
    {
      "cell_type": "code",
      "execution_count": null,
      "metadata": {
        "id": "GV63_UK5SqbP"
      },
      "outputs": [],
      "source": [
        "def test_accuracy(net, device=\"cpu\"):\n",
        "    correct = 0\n",
        "    total = 0\n",
        "    with torch.no_grad():\n",
        "        for data in testloader:\n",
        "            images, labels = data\n",
        "            images, labels = images.to(device), labels.to(device)\n",
        "            outputs = net(images)\n",
        "            _, predicted = torch.max(outputs.data, 1)\n",
        "            total += labels.size(0)\n",
        "            correct += (predicted == labels).sum().item()\n",
        "\n",
        "    return correct / total"
      ]
    },
    {
      "cell_type": "markdown",
      "metadata": {
        "id": "0TVka4HEfJJi"
      },
      "source": [
        "Hàm huấn luyện mô hình"
      ]
    },
    {
      "cell_type": "code",
      "execution_count": null,
      "metadata": {
        "id": "Bk1YvtHgOKqk"
      },
      "outputs": [],
      "source": [
        "def train(net, criterion, optimizer, save_path, device=\"cpu\"):\n",
        "    T_cur = 0\n",
        "    for epoch in range(1, epochs+1):  # loop over the dataset multiple times\n",
        "        running_loss = 0.0\n",
        "        epoch_steps = 0\n",
        "        T_cur += 1\n",
        "\n",
        "        # warm-up\n",
        "        if epoch <= warm_epoch:\n",
        "            optimizer.param_groups[0]['lr'] = (1.0 * epoch) / warm_epoch  * init_lr\n",
        "        else:\n",
        "            # cosine annealing lr\n",
        "            optimizer.param_groups[0]['lr'] = last_lr + (init_lr - last_lr) * (1 + np.cos(T_cur * np.pi / T_max)) / 2\n",
        "\n",
        "        for i, data in enumerate(trainloader, 0):\n",
        "            # get the inputs; data is a list of [inputs, labels]\n",
        "            inputs, labels = data\n",
        "            inputs, labels = inputs.to(device), labels.to(device)\n",
        "\n",
        "            # zero the parameter gradients\n",
        "            optimizer.zero_grad()\n",
        "\n",
        "            # forward + backward + optimize\n",
        "            outputs = net(inputs)\n",
        "            loss = criterion(outputs, labels)\n",
        "            loss.backward()\n",
        "            optimizer.step()\n",
        "\n",
        "            # print statistics\n",
        "            running_loss += loss.item()\n",
        "            epoch_steps += 1\n",
        "            if i + 1 == len(trainloader):\n",
        "                print(\"[Epoch %d] loss: %.3f\" % (epoch, running_loss / epoch_steps))\n",
        "                running_loss = 0.0\n",
        "\n",
        "    print(\"Finished Training\")\n",
        "    print(\"Test accuracy:\", test_accuracy(net, device))\n",
        "    torch.save(net.state_dict(), save_path)"
      ]
    },
    {
      "cell_type": "markdown",
      "metadata": {
        "id": "ICmfyMN4fJJk"
      },
      "source": [
        "Thiết lập các tham số và hai kiến trúc mạng khác nhau"
      ]
    },
    {
      "cell_type": "code",
      "execution_count": null,
      "metadata": {
        "colab": {
          "base_uri": "https://localhost:8080/"
        },
        "id": "mS4soUx9iwvh",
        "outputId": "c7c67a72-1a64-4239-df16-c09ac1792609"
      },
      "outputs": [
        {
          "output_type": "stream",
          "name": "stderr",
          "text": [
            "100%|██████████| 170M/170M [00:05<00:00, 29.7MB/s]\n"
          ]
        }
      ],
      "source": [
        "epochs = 10\n",
        "warm_epoch = 5\n",
        "init_lr = 1e-2\n",
        "last_lr = 1e-4\n",
        "T_max = epochs\n",
        "\n",
        "configs = [{'l1': 64, 'l2': 32}, {'l1': 128, 'l2': 64}]\n",
        "\n",
        "trainset, testset = load_data('./data')\n",
        "trainloader = torch.utils.data.DataLoader(\n",
        "    trainset,\n",
        "    batch_size=128,\n",
        "    shuffle=True,\n",
        ")\n",
        "testloader = torch.utils.data.DataLoader(\n",
        "    testset, batch_size=4, shuffle=False, num_workers=2)"
      ]
    },
    {
      "cell_type": "markdown",
      "metadata": {
        "id": "zxCqHlVyfJJl"
      },
      "source": [
        "Huấn luyện hai mạng mô tả trong configs"
      ]
    },
    {
      "cell_type": "code",
      "execution_count": null,
      "metadata": {
        "colab": {
          "base_uri": "https://localhost:8080/"
        },
        "id": "rHabW0HfNQuj",
        "outputId": "83027cfa-5ce9-4cf3-a7e4-a7eade0ace46"
      },
      "outputs": [
        {
          "output_type": "stream",
          "name": "stdout",
          "text": [
            "{'l1': 64, 'l2': 32}\n",
            "[Epoch 1] loss: 2.304\n",
            "[Epoch 2] loss: 2.206\n",
            "[Epoch 3] loss: 1.853\n",
            "[Epoch 4] loss: 1.622\n",
            "[Epoch 5] loss: 1.452\n",
            "[Epoch 6] loss: 1.301\n",
            "[Epoch 7] loss: 1.236\n",
            "[Epoch 8] loss: 1.198\n",
            "[Epoch 9] loss: 1.174\n",
            "[Epoch 10] loss: 1.166\n",
            "Finished Training\n",
            "Test accuracy: 0.5689\n",
            "{'l1': 128, 'l2': 64}\n",
            "[Epoch 1] loss: 2.303\n",
            "[Epoch 2] loss: 2.257\n",
            "[Epoch 3] loss: 1.797\n",
            "[Epoch 4] loss: 1.508\n",
            "[Epoch 5] loss: 1.362\n",
            "[Epoch 6] loss: 1.217\n",
            "[Epoch 7] loss: 1.163\n",
            "[Epoch 8] loss: 1.126\n",
            "[Epoch 9] loss: 1.105\n",
            "[Epoch 10] loss: 1.096\n",
            "Finished Training\n",
            "Test accuracy: 0.5885\n"
          ]
        }
      ],
      "source": [
        "os.makedirs('./snapshot', exist_ok=True)\n",
        "\n",
        "for i, cfg in enumerate(configs):\n",
        "    print(cfg)\n",
        "    net = Net(cfg['l1'], cfg['l2'])\n",
        "    device = torch.device(\"cuda:0\" if torch.cuda.is_available() else \"cpu\")\n",
        "    net.to(device)\n",
        "\n",
        "    criterion = nn.CrossEntropyLoss()\n",
        "    optimizer = optim.SGD(net.parameters(), lr=init_lr, momentum=0.9)\n",
        "    train(net, criterion, optimizer, f'./snapshot/model{i}.pth', device)\n"
      ]
    },
    {
      "cell_type": "markdown",
      "metadata": {
        "id": "BBHPkQe4fJJn"
      },
      "source": [
        "Kết hợp kết quả hai mạng (ensemble)"
      ]
    },
    {
      "cell_type": "code",
      "execution_count": null,
      "metadata": {
        "id": "_W4q6zccShD5"
      },
      "outputs": [],
      "source": [
        "from tqdm import tqdm\n",
        "\n",
        "def test_ensemble(device=\"cuda:0\"):\n",
        "    correct = 0\n",
        "    total = 0\n",
        "    with torch.no_grad():\n",
        "        for data in tqdm(testloader):\n",
        "            images, labels = data\n",
        "            images, labels = images.to(device), labels.to(device)\n",
        "            final_outputs = torch.zeros((4, 10)).to(device)\n",
        "            for i, cfg in enumerate(configs):\n",
        "                net = Net(cfg['l1'], cfg['l2'])\n",
        "                net.to(device)\n",
        "                net.load_state_dict(torch.load(f'./snapshot/model{i}.pth'))\n",
        "                outputs = net(images)\n",
        "                final_outputs = final_outputs.add(outputs)\n",
        "\n",
        "            final_outputs.div(len(configs))\n",
        "            _, predicted = torch.max(final_outputs.data, 1)\n",
        "            total += labels.size(0)\n",
        "            correct += (predicted == labels).sum().item()\n",
        "\n",
        "    return correct / total"
      ]
    },
    {
      "cell_type": "code",
      "execution_count": null,
      "metadata": {
        "id": "6mx7FNHPfJJo"
      },
      "outputs": [],
      "source": [
        "from tqdm import tqdm\n",
        "\n",
        "def test_ensemble(device=\"cuda:0\"):\n",
        "    correct = 0\n",
        "    total = 0\n",
        "    with torch.no_grad():\n",
        "        for data in tqdm(testloader):\n",
        "            images, labels = data\n",
        "            images, labels = images.to(device), labels.to(device)\n",
        "            final_outputs = torch.zeros((4, 10)).to(device)\n",
        "            for i, cfg in enumerate(configs):\n",
        "                net = Net(cfg['l1'], cfg['l2'])\n",
        "                net.to(device)\n",
        "                net.load_state_dict(torch.load(f'./snapshot/model{i}.pth'))\n",
        "                outputs = net(images)\n",
        "                final_outputs = final_outputs.add(outputs)\n",
        "\n",
        "            final_outputs.div(len(configs))\n",
        "            _, predicted = torch.max(final_outputs.data, 1)\n",
        "            total += labels.size(0)\n",
        "            correct += (predicted == labels).sum().item()\n",
        "\n",
        "    return correct / total"
      ]
    },
    {
      "cell_type": "code",
      "execution_count": null,
      "metadata": {
        "colab": {
          "base_uri": "https://localhost:8080/"
        },
        "id": "S-zwy7Uxcmmh",
        "outputId": "6178887d-6172-4395-c0a3-3ff9fadc322b"
      },
      "outputs": [
        {
          "output_type": "stream",
          "name": "stderr",
          "text": [
            "100%|██████████| 2500/2500 [00:29<00:00, 83.93it/s]\n"
          ]
        },
        {
          "output_type": "execute_result",
          "data": {
            "text/plain": [
              "0.6018"
            ]
          },
          "metadata": {},
          "execution_count": 10
        }
      ],
      "source": [
        "test_ensemble()"
      ]
    },
    {
      "cell_type": "code",
      "execution_count": null,
      "metadata": {
        "id": "7RsZiih2dQS2"
      },
      "outputs": [],
      "source": []
    }
  ],
  "metadata": {
    "accelerator": "GPU",
    "colab": {
      "provenance": []
    },
    "kernelspec": {
      "display_name": "Python 3",
      "name": "python3"
    }
  },
  "nbformat": 4,
  "nbformat_minor": 0
}